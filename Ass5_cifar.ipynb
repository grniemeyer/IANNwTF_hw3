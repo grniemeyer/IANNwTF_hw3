{
  "nbformat": 4,
  "nbformat_minor": 0,
  "metadata": {
    "colab": {
      "provenance": [],
      "gpuType": "T4"
    },
    "kernelspec": {
      "name": "python3",
      "display_name": "Python 3"
    },
    "language_info": {
      "name": "python"
    },
    "accelerator": "GPU"
  },
  "cells": [
    {
      "cell_type": "code",
      "execution_count": 45,
      "metadata": {
        "id": "54iF8dpOTZn6"
      },
      "outputs": [],
      "source": [
        "import tensorflow as tf\n",
        "import tensorflow_datasets as tfds\n",
        "import numpy as np\n",
        "import matplotlib.pyplot as plt\n",
        "\n",
        "\n",
        "(train_ds, test_ds), ds_info = tfds.load('cifar10', split=['train', 'test'], as_supervised=True, with_info=True)\n",
        "BATCH_SIZE = 64\n",
        "\n",
        "#print(ds_info)"
      ]
    },
    {
      "cell_type": "code",
      "source": [
        "## 1.1 Prep dataset\n",
        "def preprocessing_cifar10(image, label):\n",
        "    image = tf.cast(image, tf.float32) / 128 - 1\n",
        "    label = tf.one_hot(label, depth=10)\n",
        "    return image, label\n",
        "\n",
        "train_ds = train_ds.map(preprocessing_cifar10)\n",
        "train_ds = train_ds.shuffle(1000).batch(BATCH_SIZE).prefetch(2)\n",
        "\n"
      ],
      "metadata": {
        "id": "4OBkArW4B5W6"
      },
      "execution_count": 46,
      "outputs": []
    },
    {
      "cell_type": "code",
      "source": [
        "def try_model(model, ds):\n",
        "  for x, t in ds.take(5):\n",
        "    y = model(x)\n",
        "\n"
      ],
      "metadata": {
        "id": "01avB2s3NOAJ"
      },
      "execution_count": 47,
      "outputs": []
    },
    {
      "cell_type": "code",
      "source": [
        "## Visualization\n",
        "# ectract batch of smaples\n",
        "sample_batch = next(iter(train_ds))\n",
        "# unpack batch\n",
        "sample_image, sample_label = sample_batch\n",
        "\n",
        "# right now normalized to the range [-1, 1], so rescale it to [0, 1] for visualization purposes\n",
        "plt.imshow((sample_image[0] + 1) / 2)\n",
        "plt.title(f\"Label: {np.argmax(sample_label[0])}\")\n",
        "#plt.axis(\"off\")"
      ],
      "metadata": {
        "colab": {
          "base_uri": "https://localhost:8080/",
          "height": 469
        },
        "id": "U1krRD5mEiLp",
        "outputId": "0041df81-9c50-4b96-c5b8-0c05720eef03"
      },
      "execution_count": 48,
      "outputs": [
        {
          "output_type": "execute_result",
          "data": {
            "text/plain": [
              "Text(0.5, 1.0, 'Label: 0')"
            ]
          },
          "metadata": {},
          "execution_count": 48
        },
        {
          "output_type": "display_data",
          "data": {
            "text/plain": [
              "<Figure size 640x480 with 1 Axes>"
            ],
            "image/png": "[encoded data removed]"
          },
          "metadata": {}
        }
      ]
    },
    {
      "cell_type": "code",
      "source": [
        "## 1.2 Creation of CNN Model\n",
        "\n",
        "from tensorflow.keras.layers import Dense, Conv2D, MaxPooling2D, Flatten\n",
        "\n",
        "class MyCNN(tf.keras.Model):\n",
        "  def __init__(self):\n",
        "    super(MyCNN, self).__init__()\n",
        "\n",
        "    self.convlayer1 = tf.keras.layers.Conv2D(filters=32, kernel_size=3, padding='same', activation='relu', input_shape=(32, 32, 3))\n",
        "    self.convlayer2 = tf.keras.layers.Conv2D(filters=32, kernel_size=3, padding='same', activation='relu')\n",
        "    self.pooling = tf.keras.layers.MaxPooling2D(pool_size=2, strides=2)\n",
        "\n",
        "    self.convlayer3 = tf.keras.layers.Conv2D(filters=64, kernel_size=3, padding='same', activation='relu')\n",
        "    self.convlayer4 = tf.keras.layers.Conv2D(filters=64, kernel_size=3, padding='same', activation='relu')\n",
        "    self.global_pool = tf.keras.layers.GlobalAvgPool2D()\n",
        "\n",
        "    self.out = tf.keras.layers.Dense(10, activation='softmax')\n",
        "\n",
        "\n",
        "  def call(self, x):\n",
        "    x = self.convlayer1(x)\n",
        "    x = self.convlayer2(x)\n",
        "    x = self.pooling(x)\n",
        "    x = self.convlayer3(x)\n",
        "    x = self.convlayer4(x)\n",
        "    x = self.global_pool(x)\n",
        "    x = self.out(x)\n",
        "    return x\n",
        "\n",
        "\n",
        "\n",
        "cifar_cnn = MyCNN()\n",
        "try_model(cifar_cnn, train_ds)\n",
        ""
      ],
      "metadata": {
        "id": "YzNI55VPKOMT"
      },
      "execution_count": 49,
      "outputs": []
    },
    {
      "cell_type": "code",
      "source": [],
      "metadata": {
        "id": "ycY5NoQZAIUa"
      },
      "execution_count": null,
      "outputs": []
    },
    {
      "cell_type": "code",
      "source": [
        "# ## 1.3 Training\n",
        "\n",
        "\n",
        "# #@tf.function\n",
        "# def train_loop(train_ds, NUM_EPOCHS, LR, loss_function, optimizer):\n",
        "#     model = MyCNN()\n",
        "#     # # build model by calling it on a batch of data\n",
        "#     # sample_batch = next(iter(train_ds))\n",
        "#     # model.build(input_shape=sample_batch[0].shape)\n",
        "\n",
        "#     #print(model.summary())\n",
        "\n",
        "#     # define metric\n",
        "#     train_acc_metric = tf.keras.metrics.CategoricalAccuracy()\n",
        "#     train_losses_metric = tf.keras.metrics.Mean()\n",
        "\n",
        "#     for epoch in range(NUM_EPOCHS):\n",
        "#         print(f\"Epoch {epoch}:\")\n",
        "\n",
        "#         # reset accuracy metric at the beginning of each epoch\n",
        "#         train_acc_metric.reset_states()\n",
        "\n",
        "#         # TRAIN set\n",
        "#         for x, t in train_ds:\n",
        "#             with tf.GradientTape() as tape:\n",
        "#                 pred = model(x)\n",
        "#                 l = loss_function(t, pred)\n",
        "\n",
        "#             gradients = tape.gradient(l, model.trainable_variables)\n",
        "#             optimizer.apply_gradients(zip(gradients, model.trainable_variables))\n",
        "\n",
        "#             # update accuracy metric\n",
        "#             train_acc_metric.update_state(t, pred)\n",
        "#             train_losses_metric.update_state(l)\n",
        "\n",
        "#         # calculate accuracy at the end of each epoch\n",
        "#         train_accuracy = train_acc_metric.result().numpy() #numerical value of the accuracy for printing\n",
        "#         print(f\"Training Accuracy: {train_accuracy}\")\n",
        "\n",
        "#     # Optionally, return or save the trained model\n",
        "#     return model\n"
      ],
      "metadata": {
        "id": "iGcRuLucgKnz"
      },
      "execution_count": 20,
      "outputs": []
    },
    {
      "cell_type": "code",
      "source": [],
      "metadata": {
        "id": "32ST78MN5gGR"
      },
      "execution_count": null,
      "outputs": []
    },
    {
      "cell_type": "code",
      "source": [
        "\n",
        "def train_loop(train_ds, test_ds, NUM_EPOCHS, LR, loss_function, optimizer):\n",
        "    model = MyCNN()\n",
        "\n",
        "    # Build the model by calling it on a batch of data\n",
        "    # sample_batch = next(iter(train_ds))\n",
        "    # model.build(input_shape=sample_batch[0].shape)\n",
        "\n",
        "    train_accuracy_metric = tf.keras.metrics.CategoricalAccuracy()\n",
        "    val_accuracy_metric = tf.keras.metrics.CategoricalAccuracy()\n",
        "    train_losses_metric = tf.keras.metrics.Mean()\n",
        "    val_losses_metric = tf.keras.metrics.Mean()\n",
        "# for plotting:\n",
        "    train_accuracies, val_accuracies = [], []\n",
        "    train_losses, val_losses = [], []\n",
        "\n",
        "    for epoch in range(NUM_EPOCHS):\n",
        "        print(f\"Epoch {epoch + 1} of {NUM_EPOCHS}:\")\n",
        "\n",
        "        # Reset metrics at the beginning of each epoch\n",
        "        train_accuracy_metric.reset_states()\n",
        "        val_accuracy_metric.reset_states()\n",
        "        train_losses_metric.reset_states()\n",
        "        val_losses_metric.reset_states()\n",
        "\n",
        "        # TRAIN set\n",
        "        for x_train, t_train in train_ds:\n",
        "            with tf.GradientTape() as tape:\n",
        "                train_pred = model(x_train)\n",
        "                train_loss = loss_function(t_train, train_pred)\n",
        "\n",
        "            gradients = tape.gradient(train_loss, model.trainable_variables)\n",
        "            optimizer.apply_gradients(zip(gradients, model.trainable_variables))\n",
        "\n",
        "            # Update training metrics\n",
        "            train_accuracy_metric.update_state(t_train, train_pred)\n",
        "            train_losses_metric.update_state(train_loss)\n",
        "\n",
        "        # Calculate training metrics at the end of each epoch\n",
        "        train_accuracy = train_accuracy_metric.result().numpy()\n",
        "        train_loss = train_losses_metric.result().numpy()\n",
        "        print(f\"Training Accuracy: {train_accuracy}, Training Loss: {train_loss}\")\n",
        "\n",
        "        # Save training metrics for visualization\n",
        "        train_accuracies.append(train_accuracy)\n",
        "        train_losses.append(train_loss)\n",
        "\n",
        "        # TEST set\n",
        "        for x_val, t_val in test_ds:\n",
        "            val_pred = model(x_val)\n",
        "            val_loss = loss_function(t_val, val_pred)\n",
        "\n",
        "            # Update validation metrics\n",
        "            val_accuracy_metric.update_state(t_val, val_pred)\n",
        "            val_losses_metric.update_state(val_loss)\n",
        "\n",
        "        # Calculate validation metrics at the end of each epoch\n",
        "        val_accuracy = val_accuracy_metric.result().numpy()\n",
        "        val_loss = val_losses_metric.result().numpy()\n",
        "        print(f\"Validation/Test Accuracy: {val_accuracy}, Validation/Test Loss: {val_loss}\")\n",
        "\n",
        "        # Save validation metrics for visualization\n",
        "        val_accuracies.append(val_accuracy)\n",
        "        val_losses.append(val_loss)\n",
        "\n",
        "    # Plot training and validation metrics\n",
        "    epochs_range = range(1, NUM_EPOCHS + 1)\n",
        "\n",
        "    plt.figure(figsize=(12, 4))\n",
        "\n",
        "    plt.subplot(1, 2, 1)\n",
        "    plt.plot(epochs_range, train_accuracies, label='Training Accuracy')\n",
        "    plt.plot(epochs_range, val_accuracies, label='Validation Accuracy')\n",
        "    plt.xlabel('Epochs')\n",
        "    plt.ylabel('Accuracy')\n",
        "    plt.legend()\n",
        "    plt.title('Training and Validation Accuracy')\n",
        "\n",
        "    plt.subplot(1, 2, 2)\n",
        "    plt.plot(epochs_range, train_losses, label='Training Loss')\n",
        "    plt.plot(epochs_range, val_losses, label='Validation Loss')\n",
        "    plt.xlabel('Epochs')\n",
        "    plt.ylabel('Loss')\n",
        "    plt.legend()\n",
        "    plt.title('Training and Validation Loss')\n",
        "\n",
        "    plt.show()"
      ],
      "metadata": {
        "id": "hjbMOxeH5gB4"
      },
      "execution_count": 50,
      "outputs": []
    },
    {
      "cell_type": "code",
      "source": [
        "NUM_EPOCHS = 15\n",
        "LR = 0.000001\n",
        "loss_function = tf.keras.losses.CategoricalCrossentropy(from_logits=False)\n",
        "optimizer = tf.keras.optimizers.Adam(learning_rate=LR)\n",
        "\n",
        "\n",
        "#call train loop\n",
        "trained_model = train_loop(train_ds, test_ds, NUM_EPOCHS, LR, loss_function, optimizer)"
      ],
      "metadata": {
        "colab": {
          "base_uri": "https://localhost:8080/",
          "height": 477
        },
        "id": "IgOD-CAt-BMk",
        "outputId": "39301691-f15f-4fa9-f1ff-1cec08d246c3"
      },
      "execution_count": 52,
      "outputs": [
        {
          "output_type": "stream",
          "name": "stdout",
          "text": [
            "Epoch 1 of 15:\n",
            "Training Accuracy: 0.0997999981045723, Training Loss: 2.3053224086761475\n"
          ]
        },
        {
          "output_type": "error",
          "ename": "ValueError",
          "evalue": "ignored",
          "traceback": [
            "\u001b[0;31m---------------------------------------------------------------------------\u001b[0m",
            "\u001b[0;31mValueError\u001b[0m                                Traceback (most recent call last)",
            "\u001b[0;32m<ipython-input-52-44872c3a7e7f>\u001b[0m in \u001b[0;36m<cell line: 8>\u001b[0;34m()\u001b[0m\n\u001b[1;32m      6\u001b[0m \u001b[0;34m\u001b[0m\u001b[0m\n\u001b[1;32m      7\u001b[0m \u001b[0;31m#call train loop\u001b[0m\u001b[0;34m\u001b[0m\u001b[0;34m\u001b[0m\u001b[0m\n\u001b[0;32m----> 8\u001b[0;31m \u001b[0mtrained_model\u001b[0m \u001b[0;34m=\u001b[0m \u001b[0mtrain_loop\u001b[0m\u001b[0;34m(\u001b[0m\u001b[0mtrain_ds\u001b[0m\u001b[0;34m,\u001b[0m \u001b[0mtest_ds\u001b[0m\u001b[0;34m,\u001b[0m \u001b[0mNUM_EPOCHS\u001b[0m\u001b[0;34m,\u001b[0m \u001b[0mLR\u001b[0m\u001b[0;34m,\u001b[0m \u001b[0mloss_function\u001b[0m\u001b[0;34m,\u001b[0m \u001b[0moptimizer\u001b[0m\u001b[0;34m)\u001b[0m\u001b[0;34m\u001b[0m\u001b[0;34m\u001b[0m\u001b[0m\n\u001b[0m",
            "\u001b[0;32m<ipython-input-50-a0d29f7724e8>\u001b[0m in \u001b[0;36mtrain_loop\u001b[0;34m(train_ds, test_ds, NUM_EPOCHS, LR, loss_function, optimizer)\u001b[0m\n\u001b[1;32m     47\u001b[0m         \u001b[0;31m# TEST set\u001b[0m\u001b[0;34m\u001b[0m\u001b[0;34m\u001b[0m\u001b[0m\n\u001b[1;32m     48\u001b[0m         \u001b[0;32mfor\u001b[0m \u001b[0mx_val\u001b[0m\u001b[0;34m,\u001b[0m \u001b[0mt_val\u001b[0m \u001b[0;32min\u001b[0m \u001b[0mtest_ds\u001b[0m\u001b[0;34m:\u001b[0m\u001b[0;34m\u001b[0m\u001b[0;34m\u001b[0m\u001b[0m\n\u001b[0;32m---> 49\u001b[0;31m             \u001b[0mval_pred\u001b[0m \u001b[0;34m=\u001b[0m \u001b[0mmodel\u001b[0m\u001b[0;34m(\u001b[0m\u001b[0mx_val\u001b[0m\u001b[0;34m)\u001b[0m\u001b[0;34m\u001b[0m\u001b[0;34m\u001b[0m\u001b[0m\n\u001b[0m\u001b[1;32m     50\u001b[0m             \u001b[0mval_loss\u001b[0m \u001b[0;34m=\u001b[0m \u001b[0mloss_function\u001b[0m\u001b[0;34m(\u001b[0m\u001b[0mt_val\u001b[0m\u001b[0;34m,\u001b[0m \u001b[0mval_pred\u001b[0m\u001b[0;34m)\u001b[0m\u001b[0;34m\u001b[0m\u001b[0;34m\u001b[0m\u001b[0m\n\u001b[1;32m     51\u001b[0m \u001b[0;34m\u001b[0m\u001b[0m\n",
            "\u001b[0;32m/usr/local/lib/python3.10/dist-packages/keras/src/utils/traceback_utils.py\u001b[0m in \u001b[0;36merror_handler\u001b[0;34m(*args, **kwargs)\u001b[0m\n\u001b[1;32m     68\u001b[0m             \u001b[0;31m# To get the full stack trace, call:\u001b[0m\u001b[0;34m\u001b[0m\u001b[0;34m\u001b[0m\u001b[0m\n\u001b[1;32m     69\u001b[0m             \u001b[0;31m# `tf.debugging.disable_traceback_filtering()`\u001b[0m\u001b[0;34m\u001b[0m\u001b[0;34m\u001b[0m\u001b[0m\n\u001b[0;32m---> 70\u001b[0;31m             \u001b[0;32mraise\u001b[0m \u001b[0me\u001b[0m\u001b[0;34m.\u001b[0m\u001b[0mwith_traceback\u001b[0m\u001b[0;34m(\u001b[0m\u001b[0mfiltered_tb\u001b[0m\u001b[0;34m)\u001b[0m \u001b[0;32mfrom\u001b[0m \u001b[0;32mNone\u001b[0m\u001b[0;34m\u001b[0m\u001b[0;34m\u001b[0m\u001b[0m\n\u001b[0m\u001b[1;32m     71\u001b[0m         \u001b[0;32mfinally\u001b[0m\u001b[0;34m:\u001b[0m\u001b[0;34m\u001b[0m\u001b[0;34m\u001b[0m\u001b[0m\n\u001b[1;32m     72\u001b[0m             \u001b[0;32mdel\u001b[0m \u001b[0mfiltered_tb\u001b[0m\u001b[0;34m\u001b[0m\u001b[0;34m\u001b[0m\u001b[0m\n",
            "\u001b[0;32m<ipython-input-49-0ad9eb814655>\u001b[0m in \u001b[0;36mcall\u001b[0;34m(self, x)\u001b[0m\n\u001b[1;32m     19\u001b[0m \u001b[0;34m\u001b[0m\u001b[0m\n\u001b[1;32m     20\u001b[0m   \u001b[0;32mdef\u001b[0m \u001b[0mcall\u001b[0m\u001b[0;34m(\u001b[0m\u001b[0mself\u001b[0m\u001b[0;34m,\u001b[0m \u001b[0mx\u001b[0m\u001b[0;34m)\u001b[0m\u001b[0;34m:\u001b[0m\u001b[0;34m\u001b[0m\u001b[0;34m\u001b[0m\u001b[0m\n\u001b[0;32m---> 21\u001b[0;31m     \u001b[0mx\u001b[0m \u001b[0;34m=\u001b[0m \u001b[0mself\u001b[0m\u001b[0;34m.\u001b[0m\u001b[0mconvlayer1\u001b[0m\u001b[0;34m(\u001b[0m\u001b[0mx\u001b[0m\u001b[0;34m)\u001b[0m\u001b[0;34m\u001b[0m\u001b[0;34m\u001b[0m\u001b[0m\n\u001b[0m\u001b[1;32m     22\u001b[0m     \u001b[0mx\u001b[0m \u001b[0;34m=\u001b[0m \u001b[0mself\u001b[0m\u001b[0;34m.\u001b[0m\u001b[0mconvlayer2\u001b[0m\u001b[0;34m(\u001b[0m\u001b[0mx\u001b[0m\u001b[0;34m)\u001b[0m\u001b[0;34m\u001b[0m\u001b[0;34m\u001b[0m\u001b[0m\n\u001b[1;32m     23\u001b[0m     \u001b[0mx\u001b[0m \u001b[0;34m=\u001b[0m \u001b[0mself\u001b[0m\u001b[0;34m.\u001b[0m\u001b[0mpooling\u001b[0m\u001b[0;34m(\u001b[0m\u001b[0mx\u001b[0m\u001b[0;34m)\u001b[0m\u001b[0;34m\u001b[0m\u001b[0;34m\u001b[0m\u001b[0m\n",
            "\u001b[0;31mValueError\u001b[0m: Exception encountered when calling layer 'my_cnn_16' (type MyCNN).\n\nInput 0 of layer \"conv2d_64\" is incompatible with the layer: expected min_ndim=4, found ndim=3. Full shape received: (32, 32, 3)\n\nCall arguments received by layer 'my_cnn_16' (type MyCNN):\n  • x=tf.Tensor(shape=(32, 32, 3), dtype=uint8)"
          ]
        }
      ]
    },
    {
      "cell_type": "code",
      "source": [
        "# possible adjustments\n",
        "\n",
        "# @tf.function\n",
        "# kein Softmax?? ->then from_logits=True"
      ],
      "metadata": {
        "id": "8qzrMhqgirWl"
      },
      "execution_count": null,
      "outputs": []
    }
  ]
}