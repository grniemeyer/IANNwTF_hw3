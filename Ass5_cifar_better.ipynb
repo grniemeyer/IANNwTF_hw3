{
  "nbformat": 4,
  "nbformat_minor": 0,
  "metadata": {
    "colab": {
      "provenance": [],
      "gpuType": "T4"
    },
    "kernelspec": {
      "name": "python3",
      "display_name": "Python 3"
    },
    "language_info": {
      "name": "python"
    },
    "accelerator": "GPU"
  },
  "cells": [
    {
      "cell_type": "code",
      "execution_count": 10,
      "metadata": {
        "id": "54iF8dpOTZn6"
      },
      "outputs": [],
      "source": [
        "import tensorflow as tf\n",
        "import tensorflow_datasets as tfds\n",
        "import numpy as np\n",
        "import matplotlib.pyplot as plt\n",
        "\n",
        "\n",
        "(train_ds, test_ds), ds_info = tfds.load('cifar10', split=['train', 'test'], as_supervised=True, with_info=True)\n",
        "BATCH_SIZE = 64\n",
        "\n",
        "#print(ds_info)"
      ]
    },
    {
      "cell_type": "code",
      "source": [
        "## 1.1 Prep dataset\n",
        "def preprocessing_cifar10(image, label):\n",
        "    image = tf.cast(image, tf.float32) / 128 - 1\n",
        "    label = tf.one_hot(label, depth=10)\n",
        "    return image, label\n",
        "\n",
        "train_ds = train_ds.map(preprocessing_cifar10)\n",
        "train_ds = train_ds.shuffle(1000).batch(BATCH_SIZE).prefetch(2)\n",
        "\n"
      ],
      "metadata": {
        "id": "4OBkArW4B5W6"
      },
      "execution_count": 11,
      "outputs": []
    },
    {
      "cell_type": "code",
      "source": [
        "def try_model(model, ds):\n",
        "  for x, t in ds.take(5):\n",
        "    y = model(x)\n",
        "\n"
      ],
      "metadata": {
        "id": "01avB2s3NOAJ"
      },
      "execution_count": 3,
      "outputs": []
    },
    {
      "cell_type": "code",
      "source": [
        "## Visualization\n",
        "# ectract batch of smaples\n",
        "sample_batch = next(iter(train_ds))\n",
        "# unpack batch\n",
        "sample_image, sample_label = sample_batch\n",
        "\n",
        "# right now normalized to the range [-1, 1], so rescale it to [0, 1] for visualization purposes\n",
        "plt.imshow((sample_image[0] + 1) / 2)\n",
        "plt.title(f\"Label: {np.argmax(sample_label[0])}\")\n",
        "#plt.axis(\"off\")"
      ],
      "metadata": {
        "colab": {
          "base_uri": "https://localhost:8080/",
          "height": 469
        },
        "id": "U1krRD5mEiLp",
        "outputId": "2fa13239-725f-419a-c6a6-e501461ae3ce"
      },
      "execution_count": 8,
      "outputs": [
        {
          "output_type": "execute_result",
          "data": {
            "text/plain": [
              "Text(0.5, 1.0, 'Label: 4')"
            ]
          },
          "metadata": {},
          "execution_count": 8
        },
        {
          "output_type": "display_data",
          "data": {
            "text/plain": [
              "<Figure size 640x480 with 1 Axes>"
            ],
            "image/png": "[encoded data removed]"
          },
          "metadata": {}
        }
      ]
    },
    {
      "cell_type": "code",
      "source": [
        "## 1.2 Creation of CNN Model\n",
        "\n",
        "from tensorflow.keras.layers import Dense, Conv2D, MaxPooling2D, Flatten\n",
        "\n",
        "class MyCNN(tf.keras.Model):\n",
        "  def __init__(self):\n",
        "    super(MyCNN, self).__init__()\n",
        "\n",
        "    self.convlayer1 = tf.keras.layers.Conv2D(filters=32, kernel_size=3, padding='same', activation='relu', input_shape=(32, 32, 3))\n",
        "    self.convlayer2 = tf.keras.layers.Conv2D(filters=32, kernel_size=3, padding='same', activation='relu')\n",
        "    self.pooling = tf.keras.layers.MaxPooling2D(pool_size=2, strides=2)\n",
        "\n",
        "    self.convlayer3 = tf.keras.layers.Conv2D(filters=64, kernel_size=3, padding='same', activation='relu')\n",
        "    self.convlayer4 = tf.keras.layers.Conv2D(filters=64, kernel_size=3, padding='same', activation='relu')\n",
        "    self.global_pool = tf.keras.layers.GlobalAvgPool2D()\n",
        "\n",
        "    self.out = tf.keras.layers.Dense(10, activation='softmax')\n",
        "\n",
        "\n",
        "  def call(self, x):\n",
        "    x = self.convlayer1(x)\n",
        "    x = self.convlayer2(x)\n",
        "    x = self.pooling(x)\n",
        "    x = self.convlayer3(x)\n",
        "    x = self.convlayer4(x)\n",
        "    x = self.global_pool(x)\n",
        "    x = self.out(x)\n",
        "    return x\n",
        "\n",
        "\n",
        "\n",
        "# cifar_cnn = MyCNN()\n",
        "# try_model(cifar_cnn, train_ds)\n",
        ""
      ],
      "metadata": {
        "id": "YzNI55VPKOMT"
      },
      "execution_count": 22,
      "outputs": []
    },
    {
      "cell_type": "code",
      "source": [
        "\n",
        "class DenselyConnectedCNNLayer(tf.keras.layers.Layer):\n",
        "  def __init__(self, num_filters):\n",
        "    super(DenselyConnectedCNNLayer, self).__init__()\n",
        "    self.conv = tf.keras.layers.Conv2D(filters=num_filters, kernel_size=3, padding='same', activation='relu')\n",
        "\n",
        "  def call(self, x):\n",
        "    c = self.conv(x)\n",
        "    x = tf.concat((x,c), axis=-1)\n",
        "    return x\n",
        "\n",
        "class DenselyConnectedCNNBlock(tf.keras.layers.Layer):\n",
        "  def __init__(self, num_filters, layers):\n",
        "    super(DenselyConnectedCNNBlock, self).__init__()\n",
        "    self.layers = [DenselyConnectedCNNLayer(num_filters) for _ in range(layers)]\n",
        "\n",
        "  def call(self, x):\n",
        "    for layer in self.layers:\n",
        "      x = layer(x)\n",
        "    return x\n",
        "\n",
        "\n",
        "class DenselyConnectedCNN(tf.keras.Model):\n",
        "  def __init__(self):\n",
        "    super(DenselyConnectedCNN, self).__init__()\n",
        "\n",
        "    self.denseblock1 = DenselyConnectedCNNBlock(24,4)\n",
        "    self.pooling1 = tf.keras.layers.MaxPooling2D()\n",
        "\n",
        "    self.denseblock2 = DenselyConnectedCNNBlock(24,4)\n",
        "    self.pooling2 = tf.keras.layers.MaxPooling2D()\n",
        "\n",
        "    self.denseblock3 = DenselyConnectedCNNBlock(24,4)\n",
        "    self.globalpooling = tf.keras.layers.GlobalAvgPool2D()\n",
        "    self.out = tf.keras.layers.Dense(10, activation='softmax')\n",
        "\n",
        "  def call(self,x):\n",
        "    x = self.denseblock1(x)\n",
        "    x = self.pooling1(x)\n",
        "    x = self.denseblock2(x)\n",
        "    x = self.pooling2(x)\n",
        "    x = self.denseblock3(x)\n",
        "    x = self.globalpooling(x)\n",
        "    x = self.out(x)\n",
        "    return x\n",
        "\n",
        "# dense_model = DenselyConnectedCNN()\n",
        "# try_model(dense_model, train_ds)\n",
        ""
      ],
      "metadata": {
        "id": "ycY5NoQZAIUa"
      },
      "execution_count": 13,
      "outputs": []
    },
    {
      "cell_type": "code",
      "source": [
        "## 1.3 Training\n",
        "\n",
        "\n",
        "#@tf.function\n",
        "def train_loop(train_ds, NUM_EPOCHS, LR, loss_function, optimizer):\n",
        "    model = MyCNN()\n",
        "\n",
        "    #print(model.summary())\n",
        "\n",
        "    # define metrics\n",
        "    train_acc_metric = tf.keras.metrics.CategoricalAccuracy()\n",
        "    train_losses_metric = tf.keras.metrics.Mean()\n",
        "\n",
        "    # sore values in lists for later plotting\n",
        "    train_accuracy_values = []\n",
        "    train_loss_values = []\n",
        "\n",
        "    for epoch in range(NUM_EPOCHS):\n",
        "        print(f\"Epoch {epoch}:\")\n",
        "\n",
        "        # reset accuracy metric at the beginning of each epoch\n",
        "        train_acc_metric.reset_states()\n",
        "\n",
        "        #\n",
        "        for x, t in train_ds:\n",
        "            with tf.GradientTape() as tape:\n",
        "                pred = model(x)\n",
        "                l = loss_function(t, pred)\n",
        "\n",
        "            gradients = tape.gradient(l, model.trainable_variables)\n",
        "            optimizer.apply_gradients(zip(gradients, model.trainable_variables))\n",
        "\n",
        "            # update accuracy metric\n",
        "            train_acc_metric.update_state(t, pred)\n",
        "            train_losses_metric.update_state(l)\n",
        "\n",
        "        # calculate accuracy at the end of each epoch\n",
        "        train_accuracy = train_acc_metric.result().numpy() #numerical value of the accuracy for printing\n",
        "        train_loss = train_losses_metric.result().numpy()\n",
        "        print(f\"Training Accuracy: {train_accuracy}, Training Loss: {train_loss}\")\n",
        "\n",
        "        # append to value lists for plotting\n",
        "        train_accuracy_values.append(train_accuracy)\n",
        "        train_loss_values.append(train_loss)\n",
        "\n",
        "\n",
        "\n",
        "    # obligatory to return model when wanting to loop test data\n",
        "    # and onligatory to return value lists for plotting\n",
        "    return model, train_accuracy_values, train_loss_values\n"
      ],
      "metadata": {
        "id": "iGcRuLucgKnz"
      },
      "execution_count": 29,
      "outputs": []
    },
    {
      "cell_type": "code",
      "source": [
        "def test_loop(test_ds, trained_model, loss_function):\n",
        "\n",
        "  test_acc_metric = tf.keras.metrics.CategoricalAccuracy()\n",
        "  test_losses_metric = tf.keras.metrics.Mean()\n",
        "\n",
        "  # lists for plotting\n",
        "  test_acc_values = []\n",
        "  test_loss_values = []\n",
        "\n",
        "  for x, t in train_ds:\n",
        "    pred = trained_model(x)\n",
        "    loss = loss_function(t, pred)\n",
        "\n",
        "    test_acc_metric.update_state(t, pred)\n",
        "    test_losses_metric.update_state(loss)\n",
        "\n",
        "  test_accuracy = test_acc_metric.result().numpy() #numerical value of the accuracy for printing\n",
        "  print(f\"Testing Accuracy: {test_accuracy}\")\n",
        "  test_loss = test_losses_metric.result().numpy()\n",
        "  print(f\"Testing Loss: {test_loss}\")\n",
        "\n",
        "\n",
        "  test_acc_values.append(test_accuracy)\n",
        "  test_loss_values.append(test_loss)\n",
        "\n",
        "  return test_acc_values, test_loss_values\n",
        "\n",
        "\n"
      ],
      "metadata": {
        "id": "32ST78MN5gGR"
      },
      "execution_count": 30,
      "outputs": []
    },
    {
      "cell_type": "code",
      "source": [],
      "metadata": {
        "id": "5XzD7ENNK8L2"
      },
      "execution_count": null,
      "outputs": []
    },
    {
      "cell_type": "code",
      "source": [
        "#1: Basic\n",
        "NUM_EPOCHS = 3\n",
        "LR = 0.001\n",
        "loss_function = tf.keras.losses.CategoricalCrossentropy(from_logits=False)\n",
        "optimizer = tf.keras.optimizers.Adam(learning_rate=LR)\n",
        "\n",
        "\n",
        "# call train loop\n",
        "trained_model, train_accuracy_values, train_loss_values = train_loop(train_ds, NUM_EPOCHS, LR, loss_function, optimizer)"
      ],
      "metadata": {
        "colab": {
          "base_uri": "https://localhost:8080/"
        },
        "id": "IgOD-CAt-BMk",
        "outputId": "2651488a-d17e-42ed-dbc5-c629a0e7979b"
      },
      "execution_count": 26,
      "outputs": [
        {
          "output_type": "stream",
          "name": "stdout",
          "text": [
            "Epoch 0:\n",
            "Training Accuracy: 0.4443199932575226, Training Loss: 1.5108553171157837\n",
            "Epoch 1:\n",
            "Training Accuracy: 0.6237000226974487, Training Loss: 1.2826778888702393\n",
            "Epoch 2:\n",
            "Training Accuracy: 0.6877599954605103, Training Loss: 1.1497795581817627\n"
          ]
        }
      ]
    },
    {
      "cell_type": "code",
      "source": [
        "# call test loop\n",
        "test_acc_values, test_loss_values = test_loop(test_ds, trained_model, loss_function)"
      ],
      "metadata": {
        "colab": {
          "base_uri": "https://localhost:8080/"
        },
        "id": "tgsWnEUDV4M5",
        "outputId": "a18ea2c0-fbca-448a-ba73-fa2a7ea500ba"
      },
      "execution_count": 27,
      "outputs": [
        {
          "output_type": "stream",
          "name": "stdout",
          "text": [
            "Testing Accuracy: 0.7260400056838989\n",
            "Testing Loss: 0.7782222032546997\n"
          ]
        }
      ]
    },
    {
      "cell_type": "code",
      "source": [
        "# plotting 1.0: with subplots per accuaracy/loss value\n",
        "# train\n",
        "plt.figure(figsize=(12, 4))\n",
        "\n",
        "plt.subplot(1, 2, 1)\n",
        "plt.plot(train_accuracy_values, label='Training Accuracy')\n",
        "plt.title('Training Accuracy')\n",
        "plt.xlabel('Epoch')\n",
        "plt.ylabel('Accuracy')\n",
        "plt.legend()\n",
        "\n",
        "plt.subplot(1, 2, 2)\n",
        "plt.plot(train_loss_values, label='Training Loss', color='orange')\n",
        "plt.title('Training Loss')\n",
        "plt.xlabel('Epoch')\n",
        "plt.ylabel('Loss')\n",
        "plt.legend()\n",
        "\n",
        "plt.tight_layout()\n",
        "plt.show()\n",
        "\n",
        "\n",
        "# test\n",
        "plt.figure(figsize=(12, 4))\n",
        "\n",
        "plt.subplot(1, 2, 1)\n",
        "plt.bar(['Testing'], [test_acc_values], color='blue', label='Testing Accuracy')\n",
        "plt.title('Testing Accuracy')\n",
        "plt.ylabel('Accuracy')\n",
        "plt.legend()\n",
        "\n",
        "plt.subplot(1, 2, 2)\n",
        "plt.bar(['Testing'], [test_loss_values], color='red', label='Testing Loss')\n",
        "plt.title('Testing Loss')\n",
        "plt.ylabel('Loss')\n",
        "plt.legend()\n",
        "\n",
        "plt.tight_layout()\n",
        "plt.show()"
      ],
      "metadata": {
        "id": "w79v7RqjxPri"
      },
      "execution_count": null,
      "outputs": []
    },
    {
      "cell_type": "code",
      "source": [
        "# Plotting 2.0: combined accuracy and loss curves + combined train and test\n",
        "plt.figure(figsize=(12, 4))\n",
        "\n",
        "plt.plot(train_accuracy_values, label='Training Accuracy', color='blue')\n",
        "plt.plot(train_loss_values, label='Training Loss', color='orange')\n",
        "plt.axhline(y=test_acc_values, color='green', linestyle='--', label='Testing Accuracy')\n",
        "plt.axhline(y=test_loss_values, color='red', linestyle='--', label='Testing Loss')\n",
        "\n",
        "plt.title('Combined Accuracy and Loss')\n",
        "plt.xlabel('Epoch')\n",
        "plt.ylabel('Value')\n",
        "plt.legend()\n",
        "\n",
        "plt.show()"
      ],
      "metadata": {
        "colab": {
          "base_uri": "https://localhost:8080/",
          "height": 410
        },
        "id": "VKnK4wsr1roc",
        "outputId": "b6e1ef2f-739a-4202-ceb2-5d6ac36e7c22"
      },
      "execution_count": 31,
      "outputs": [
        {
          "output_type": "display_data",
          "data": {
            "text/plain": [
              "<Figure size 1200x400 with 1 Axes>"
            ],
            "image/png": "[encoded data removed]"
          },
          "metadata": {}
        }
      ]
    },
    {
      "cell_type": "code",
      "source": [],
      "metadata": {
        "id": "HTwok1VT1rfW"
      },
      "execution_count": null,
      "outputs": []
    },
    {
      "cell_type": "code",
      "source": [
        "#2: with DenselyConnectedCNN\n",
        "NUM_EPOCHS = 10\n",
        "LR = 0.001\n",
        "loss_function = tf.keras.losses.CategoricalCrossentropy(from_logits=False)\n",
        "optimizer = tf.keras.optimizers.Adam(learning_rate=LR)\n",
        "\n",
        "\n",
        "# call train loop\n",
        "trained_dense_model = train_loop(train_ds, NUM_EPOCHS, LR, loss_function, optimizer)"
      ],
      "metadata": {
        "colab": {
          "base_uri": "https://localhost:8080/"
        },
        "id": "ysMjUmLqXgrU",
        "outputId": "36ee9278-9302-40fb-d657-87c43cb57147"
      },
      "execution_count": 17,
      "outputs": [
        {
          "output_type": "stream",
          "name": "stdout",
          "text": [
            "Epoch 0:\n",
            "Training Accuracy: 0.4517799913883209\n",
            "Epoch 1:\n",
            "Training Accuracy: 0.6331800222396851\n",
            "Epoch 2:\n",
            "Training Accuracy: 0.7019199728965759\n",
            "Epoch 3:\n",
            "Training Accuracy: 0.7437199950218201\n",
            "Epoch 4:\n",
            "Training Accuracy: 0.7778599858283997\n",
            "Epoch 5:\n",
            "Training Accuracy: 0.8040800094604492\n",
            "Epoch 6:\n",
            "Training Accuracy: 0.8244199752807617\n",
            "Epoch 7:\n",
            "Training Accuracy: 0.8445799946784973\n",
            "Epoch 8:\n",
            "Training Accuracy: 0.8586000204086304\n",
            "Epoch 9:\n",
            "Training Accuracy: 0.8741999864578247\n"
          ]
        }
      ]
    },
    {
      "cell_type": "code",
      "source": [
        "#2 call test loop -> Dense\n",
        "tested_model = test_loop(test_ds, trained_dense_model, loss_function)\n"
      ],
      "metadata": {
        "id": "vy8W0e33XhaB"
      },
      "execution_count": null,
      "outputs": []
    },
    {
      "cell_type": "code",
      "source": [
        "#3: with AdaGrad optimizer\n",
        "NUM_EPOCHS = 2\n",
        "LR = 0.001\n",
        "loss_function = tf.keras.losses.CategoricalCrossentropy(from_logits=False)\n",
        "optimizer = tf.keras.optimizers.experimental.Adagrad(LR)\n",
        "\n",
        "\n",
        "\n",
        "# call train loop\n",
        "trained_adagrad_model = train_loop(train_ds, NUM_EPOCHS, LR, loss_function, optimizer)"
      ],
      "metadata": {
        "id": "TOWtxBSkXhnJ"
      },
      "execution_count": null,
      "outputs": []
    },
    {
      "cell_type": "code",
      "source": [
        "#3 call test loop -> AdaGrad\n",
        "tested_model = test_loop(test_ds, trained_adagrad_model, loss_function)\n"
      ],
      "metadata": {
        "id": "vRlyNnGCXhxf"
      },
      "execution_count": null,
      "outputs": []
    },
    {
      "cell_type": "code",
      "source": [
        "#4: large LR\n",
        "NUM_EPOCHS = 2\n",
        "LR = 0.2\n",
        "loss_function = tf.keras.losses.CategoricalCrossentropy(from_logits=False)\n",
        "optimizer = tf.keras.optimizers.Adam(learning_rate=LR)\n",
        "\n",
        "\n",
        "# call train loop\n",
        "trained_lr_large_model = train_loop(train_ds, NUM_EPOCHS, LR, loss_function, optimizer)"
      ],
      "metadata": {
        "id": "1Xa2sqfkXh4v"
      },
      "execution_count": null,
      "outputs": []
    },
    {
      "cell_type": "code",
      "source": [
        "#4 call test loop -> lr\n",
        "tested_model = test_loop(test_ds, trained_lr_large_model, loss_function)\n"
      ],
      "metadata": {
        "id": "Cr3BCO-FXiDl"
      },
      "execution_count": null,
      "outputs": []
    },
    {
      "cell_type": "code",
      "source": [
        "#5: small LR\n",
        "NUM_EPOCHS = 2\n",
        "LR = 0.000001\n",
        "loss_function = tf.keras.losses.CategoricalCrossentropy(from_logits=False)\n",
        "optimizer = tf.keras.optimizers.Adam(learning_rate=LR)\n",
        "\n",
        "\n",
        "# call train loop\n",
        "trained_lr_small_model = train_loop(train_ds, NUM_EPOCHS, LR, loss_function, optimizer)"
      ],
      "metadata": {
        "id": "9HKyWZH_nVg2"
      },
      "execution_count": null,
      "outputs": []
    },
    {
      "cell_type": "code",
      "source": [
        "#5 call test loop -> lr\n",
        "tested_model = test_loop(test_ds, trained_lr_small_model, loss_function)\n"
      ],
      "metadata": {
        "id": "xSPvINTsnj23"
      },
      "execution_count": null,
      "outputs": []
    },
    {
      "cell_type": "code",
      "source": [],
      "metadata": {
        "id": "LbDTeQtdnuob"
      },
      "execution_count": null,
      "outputs": []
    }
  ]
}